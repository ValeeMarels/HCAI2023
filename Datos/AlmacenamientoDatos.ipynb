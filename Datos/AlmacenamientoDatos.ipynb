{
 "cells": [
  {
   "cell_type": "code",
   "execution_count": 1,
   "id": "ffe2fe68",
   "metadata": {},
   "outputs": [],
   "source": [
    "#Crear archivo de texto plano/ formato libre\n",
    "\n",
    "import numpy as np "
   ]
  },
  {
   "cell_type": "code",
   "execution_count": 2,
   "id": "268108e7",
   "metadata": {},
   "outputs": [],
   "source": [
    "data = np.random.normal(size=500000)"
   ]
  },
  {
   "cell_type": "code",
   "execution_count": 5,
   "id": "d9f431ce",
   "metadata": {},
   "outputs": [
    {
     "data": {
      "text/plain": [
       "500000"
      ]
     },
     "execution_count": 5,
     "metadata": {},
     "output_type": "execute_result"
    }
   ],
   "source": [
    "data.size\n"
   ]
  },
  {
   "cell_type": "code",
   "execution_count": 12,
   "id": "27bfb16d",
   "metadata": {},
   "outputs": [
    {
     "data": {
      "text/plain": [
       "30"
      ]
     },
     "execution_count": 12,
     "metadata": {},
     "output_type": "execute_result"
    }
   ],
   "source": [
    "fp = open(\"prueba.txt\", \"w\")\n",
    "fp.write(\"# Este es un archivo de texto\\n\")\n",
    "\n",
    "#Importante cerrar los archivos para que los procesos de escritura se completen\n",
    "fp.close()"
   ]
  },
  {
   "cell_type": "code",
   "execution_count": 15,
   "id": "b970f913",
   "metadata": {},
   "outputs": [],
   "source": [
    "#Como guardar un archivo\n",
    "\n",
    "with open(\"data.txt\", \"w\") as f: #Objeto tipo archivo\n",
    "    for i in data:\n",
    "        f.write(\"{:.5f}\\n\".format(i)) #Archivo de texto que contiene datos con 5 decimales en formato flotante\n",
    "        \n",
    "        \n",
    "#Recomendable usar with"
   ]
  },
  {
   "cell_type": "code",
   "execution_count": 18,
   "id": "42ba1677",
   "metadata": {},
   "outputs": [],
   "source": [
    "#Almacenar datos de modo que cada linea sea un registro y cada columna un campo separados por espacio (tabla)\n",
    "\n",
    "with open(\"data.txt\", \"w\") as f:\n",
    "    for i in range(len(data)):\n",
    "        f.write(\"{:d} {:.5f}\\n\".format(i, data[i])) \n",
    "        \n",
    "# :d formato del dato \n",
    "# :.xf cantidad de decimales "
   ]
  },
  {
   "cell_type": "code",
   "execution_count": 36,
   "id": "0d5da157",
   "metadata": {},
   "outputs": [
    {
     "data": {
      "text/plain": [
       "0"
      ]
     },
     "execution_count": 36,
     "metadata": {},
     "output_type": "execute_result"
    }
   ],
   "source": [
    "#Para leer un archivo: Indicador de lectura \"r\" a \"open\"\n",
    "\n",
    "f = open(\"data.txt\", \"r\") #abrir el archivo\n",
    "l = f.readlines() #devuelve una lista de lineas tipo string\n",
    "\n",
    "#Readline me devuelve una linea, la linea en la que esta el indicador\n",
    "l1 = f.readline()\n",
    "\n",
    "#Para volver al principio o final del archivo usamos seek\n",
    "s = f.seek(0) #vuelve al inicio del archivo. Se resetea el archivo\n",
    "\n",
    "s\n",
    "\n"
   ]
  },
  {
   "cell_type": "code",
   "execution_count": 42,
   "id": "cfd81a89",
   "metadata": {},
   "outputs": [
    {
     "data": {
      "text/plain": [
       "'2 -0.82592\\n'"
      ]
     },
     "execution_count": 42,
     "metadata": {},
     "output_type": "execute_result"
    }
   ],
   "source": [
    "l1 = f.readline()\n",
    "l1"
   ]
  },
  {
   "cell_type": "code",
   "execution_count": 44,
   "id": "d8ceb092",
   "metadata": {},
   "outputs": [
    {
     "data": {
      "text/plain": [
       "-0.82592"
      ]
     },
     "execution_count": 44,
     "metadata": {},
     "output_type": "execute_result"
    }
   ],
   "source": [
    "#Cada elemento lo podemos convertir a numeros conociendo el formato\n",
    "\n",
    "l1.split() #elementos separados\n",
    "\n",
    "l1.split()[1] #seleccionar uno en especifico\n",
    "\n",
    "float(l1.split()[1]) #lo convertimos a flotante\n"
   ]
  },
  {
   "cell_type": "code",
   "execution_count": null,
   "id": "379dc924",
   "metadata": {},
   "outputs": [],
   "source": []
  }
 ],
 "metadata": {
  "kernelspec": {
   "display_name": "Python 3 (ipykernel)",
   "language": "python",
   "name": "python3"
  },
  "language_info": {
   "codemirror_mode": {
    "name": "ipython",
    "version": 3
   },
   "file_extension": ".py",
   "mimetype": "text/x-python",
   "name": "python",
   "nbconvert_exporter": "python",
   "pygments_lexer": "ipython3",
   "version": "3.10.9"
  }
 },
 "nbformat": 4,
 "nbformat_minor": 5
}
