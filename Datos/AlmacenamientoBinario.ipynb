{
 "cells": [
  {
   "cell_type": "code",
   "execution_count": 22,
   "id": "03edaebb",
   "metadata": {},
   "outputs": [],
   "source": [
    "#Python para crear y leer archivo en binario (sin formato)\n",
    "\n",
    "import numpy as np\n",
    "import struct\n",
    "\n",
    "#Escribir datos: \n",
    "\n",
    "data = np.loadtxt(\"data.txt\", usecols=[1], unpack=True)"
   ]
  },
  {
   "cell_type": "code",
   "execution_count": 4,
   "id": "a6786161",
   "metadata": {},
   "outputs": [
    {
     "data": {
      "text/plain": [
       "(500000,)"
      ]
     },
     "execution_count": 4,
     "metadata": {},
     "output_type": "execute_result"
    }
   ],
   "source": [
    "data.shape"
   ]
  },
  {
   "cell_type": "code",
   "execution_count": 5,
   "id": "01db1f1a",
   "metadata": {},
   "outputs": [],
   "source": [
    "idxs = np.arange(1, data.shape[0])"
   ]
  },
  {
   "cell_type": "code",
   "execution_count": 7,
   "id": "2f007e9e",
   "metadata": {},
   "outputs": [
    {
     "data": {
      "text/plain": [
       "bytes"
      ]
     },
     "execution_count": 7,
     "metadata": {},
     "output_type": "execute_result"
    }
   ],
   "source": [
    "#Empaquetar en formato binario \n",
    "#* sirve para desempaquetar una tupla\n",
    "\n",
    "#Guardamos los datos:\n",
    "\n",
    "dato1 = 5\n",
    "datobin = struct.pack(\"i\", dato1)\n",
    "\n",
    "type(datobin)"
   ]
  },
  {
   "cell_type": "code",
   "execution_count": 8,
   "id": "a5915aae",
   "metadata": {},
   "outputs": [
    {
     "data": {
      "text/plain": [
       "b'\\x05\\x00\\x00\\x00'"
      ]
     },
     "execution_count": 8,
     "metadata": {},
     "output_type": "execute_result"
    }
   ],
   "source": [
    "#Muestra datos de memoria en leguaje maquina \n",
    "\n",
    "datobin"
   ]
  },
  {
   "cell_type": "code",
   "execution_count": 10,
   "id": "039281ec",
   "metadata": {},
   "outputs": [
    {
     "data": {
      "text/plain": [
       "b'33\\x93@'"
      ]
     },
     "execution_count": 10,
     "metadata": {},
     "output_type": "execute_result"
    }
   ],
   "source": [
    "#Con un flotante\n",
    "dato2 = 4.6\n",
    "dato2bin = struct.pack(\"f\", dato2)\n",
    "dato2bin"
   ]
  },
  {
   "cell_type": "code",
   "execution_count": 11,
   "id": "3f918e27",
   "metadata": {},
   "outputs": [],
   "source": [
    "#Como hacerlo con arrays? datos aleatorios\n",
    "\n",
    "#Escribir los datos empaquetados en binario:\n",
    "\n",
    "with open(\"datos.vmav\", \"wb\") as f:\n",
    "    f.write(datobin)\n",
    "    f.write(dato2bin)\n",
    "    \n",
    "#Como resultado, el archivo tiene 8bytes donde 4 son el entero y 4 el flotante"
   ]
  },
  {
   "cell_type": "code",
   "execution_count": 12,
   "id": "027fdb29",
   "metadata": {},
   "outputs": [],
   "source": [
    "#Para leer el archivo:\n",
    "\n",
    "with open (\"datos.vmav\", \"rb\") as f: \n",
    "    bindata = f.read()"
   ]
  },
  {
   "cell_type": "code",
   "execution_count": 13,
   "id": "1944bdc5",
   "metadata": {},
   "outputs": [
    {
     "data": {
      "text/plain": [
       "b'\\x05\\x00\\x00\\x0033\\x93@'"
      ]
     },
     "execution_count": 13,
     "metadata": {},
     "output_type": "execute_result"
    }
   ],
   "source": [
    "bindata"
   ]
  },
  {
   "cell_type": "code",
   "execution_count": 14,
   "id": "0fed743f",
   "metadata": {},
   "outputs": [
    {
     "data": {
      "text/plain": [
       "8"
      ]
     },
     "execution_count": 14,
     "metadata": {},
     "output_type": "execute_result"
    }
   ],
   "source": [
    "len(bindata)"
   ]
  },
  {
   "cell_type": "code",
   "execution_count": 19,
   "id": "6275aa70",
   "metadata": {},
   "outputs": [
    {
     "data": {
      "text/plain": [
       "(5, 4.599999904632568)"
      ]
     },
     "execution_count": 19,
     "metadata": {},
     "output_type": "execute_result"
    }
   ],
   "source": [
    "dato = struct.unpack(\"if\", bindata)\n",
    "dato"
   ]
  },
  {
   "cell_type": "code",
   "execution_count": 25,
   "id": "23332676",
   "metadata": {},
   "outputs": [],
   "source": [
    "#Guardar el array del archivo original\n",
    "\n",
    "with open(\"data.bin\", \"wb\") as f:\n",
    "    for value in data:\n",
    "        databin = struct.pack(\"f\", value)\n",
    "        f.write(databin)\n",
    "        \n",
    "    for value in data:\n",
    "        databin = struct.pack(\"f\", value)\n",
    "        f.write(databin)\n",
    "        "
   ]
  },
  {
   "cell_type": "code",
   "execution_count": 26,
   "id": "bc2aa389",
   "metadata": {},
   "outputs": [
    {
     "data": {
      "text/plain": [
       "4"
      ]
     },
     "execution_count": 26,
     "metadata": {},
     "output_type": "execute_result"
    }
   ],
   "source": [
    "len(databin)"
   ]
  },
  {
   "cell_type": "code",
   "execution_count": null,
   "id": "94c1638c",
   "metadata": {},
   "outputs": [],
   "source": [
    "#Ejercicio: Lectura "
   ]
  }
 ],
 "metadata": {
  "kernelspec": {
   "display_name": "Python 3 (ipykernel)",
   "language": "python",
   "name": "python3"
  },
  "language_info": {
   "codemirror_mode": {
    "name": "ipython",
    "version": 3
   },
   "file_extension": ".py",
   "mimetype": "text/x-python",
   "name": "python",
   "nbconvert_exporter": "python",
   "pygments_lexer": "ipython3",
   "version": "3.10.9"
  }
 },
 "nbformat": 4,
 "nbformat_minor": 5
}
