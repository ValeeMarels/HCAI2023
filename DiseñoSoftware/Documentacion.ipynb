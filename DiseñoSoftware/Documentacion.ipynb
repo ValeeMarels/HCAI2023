{
 "cells": [
  {
   "cell_type": "code",
   "execution_count": null,
   "id": "0fc2bf69",
   "metadata": {},
   "outputs": [],
   "source": [
    "#Ejemplo documentacion \n",
    "\n",
    "#Funcion documentada\n",
    "\n",
    "def suma(a, b):\n",
    "    \n",
    "    #Suma dos numeros y devuelve el resultado\n",
    "    #Parametros: a (int o float. Primer numero) y b (int o float. Segundo numero)\n",
    "    #Retorna: Int o float: suma a y b \n",
    "    \n",
    "return a+b"
   ]
  },
  {
   "cell_type": "code",
   "execution_count": 1,
   "id": "3991eb40",
   "metadata": {},
   "outputs": [],
   "source": [
    "#Clase documentada\n",
    "\n",
    "class circulo:\n",
    "    \n",
    "    \"\"\"\n",
    "    Circulo con un radio dado\n",
    "    Atributos: radio del circulo(float)\n",
    "    Metodos: area (devuelve area del circulo)\n",
    "             perimetro (devuelve perimetro del circulo)\n",
    "    \"\"\"\n",
    "\n",
    "def __init__(self, radio):\n",
    "    \"\"\"Inicializa el circulo\"\"\"\n",
    "    self.radio = radio\n",
    "    \n",
    "def area(self):\n",
    "    \"\"\"Devuelve el area del circulo\"\"\"\n",
    "    return 3.14*self.radio*self.radio\n",
    "\n",
    "def perimetro(self):\n",
    "    \"\"\"Devuelve el perimetro del circulo\"\"\"\n",
    "    return 2*3.14*self.radio"
   ]
  },
  {
   "cell_type": "code",
   "execution_count": null,
   "id": "f97b2329",
   "metadata": {},
   "outputs": [],
   "source": []
  }
 ],
 "metadata": {
  "kernelspec": {
   "display_name": "Python 3 (ipykernel)",
   "language": "python",
   "name": "python3"
  },
  "language_info": {
   "codemirror_mode": {
    "name": "ipython",
    "version": 3
   },
   "file_extension": ".py",
   "mimetype": "text/x-python",
   "name": "python",
   "nbconvert_exporter": "python",
   "pygments_lexer": "ipython3",
   "version": "3.10.9"
  }
 },
 "nbformat": 4,
 "nbformat_minor": 5
}
